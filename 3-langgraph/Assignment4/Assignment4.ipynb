{
 "cells": [
  {
   "cell_type": "code",
   "execution_count": 1,
   "id": "6abd101e",
   "metadata": {},
   "outputs": [
    {
     "name": "stdout",
     "output_type": "stream",
     "text": [
      "ok   \n"
     ]
    }
   ],
   "source": [
    "print(\"ok   \")"
   ]
  },
  {
   "cell_type": "markdown",
   "id": "0ab52d75",
   "metadata": {},
   "source": [
    "LLM Model - Google Gemini"
   ]
  },
  {
   "cell_type": "code",
   "execution_count": 2,
   "id": "0df0a1fc",
   "metadata": {},
   "outputs": [
    {
     "name": "stdout",
     "output_type": "stream",
     "text": [
      "Hi there! How can I help you today?\n"
     ]
    }
   ],
   "source": [
    "from langchain_google_genai import ChatGoogleGenerativeAI\n",
    "model=ChatGoogleGenerativeAI(model='gemini-1.5-flash')\n",
    "output=model.invoke(\"hi\")\n",
    "print(output.content)"
   ]
  },
  {
   "cell_type": "markdown",
   "id": "28874cf8",
   "metadata": {},
   "source": [
    "Embedding Model - HuggingFace"
   ]
  },
  {
   "cell_type": "code",
   "execution_count": 3,
   "id": "e8bf8e1b",
   "metadata": {},
   "outputs": [
    {
     "name": "stderr",
     "output_type": "stream",
     "text": [
      "c:\\hk\\agentic2.0\\venv\\Lib\\site-packages\\tqdm\\auto.py:21: TqdmWarning: IProgress not found. Please update jupyter and ipywidgets. See https://ipywidgets.readthedocs.io/en/stable/user_install.html\n",
      "  from .autonotebook import tqdm as notebook_tqdm\n"
     ]
    },
    {
     "data": {
      "text/plain": [
       "384"
      ]
     },
     "execution_count": 3,
     "metadata": {},
     "output_type": "execute_result"
    }
   ],
   "source": [
    "from langchain_huggingface import HuggingFaceEmbeddings\n",
    "embeddings = HuggingFaceEmbeddings(model_name=\"BAAI/bge-small-en\")\n",
    "len(embeddings.embed_query(\"hi\"))"
   ]
  },
  {
   "cell_type": "markdown",
   "id": "4810b6da",
   "metadata": {},
   "source": [
    "Import Data and Store in Vector DB - save it on Disk"
   ]
  },
  {
   "cell_type": "code",
   "execution_count": 4,
   "id": "e25d85cb",
   "metadata": {},
   "outputs": [],
   "source": [
    "from langchain_community.document_loaders import TextLoader, DirectoryLoader\n",
    "from langchain_community.vectorstores import Chroma\n",
    "from langchain.text_splitter import RecursiveCharacterTextSplitter"
   ]
  },
  {
   "cell_type": "code",
   "execution_count": 9,
   "id": "45d8c048",
   "metadata": {},
   "outputs": [],
   "source": [
    "loader=DirectoryLoader(\"ncsdata\",glob=\"./*.txt\",loader_cls=TextLoader)"
   ]
  },
  {
   "cell_type": "code",
   "execution_count": 10,
   "id": "dabf787d",
   "metadata": {},
   "outputs": [],
   "source": [
    "docs=loader.load()"
   ]
  },
  {
   "cell_type": "code",
   "execution_count": 11,
   "id": "78f311a0",
   "metadata": {},
   "outputs": [
    {
     "data": {
      "text/plain": [
       "[Document(metadata={'source': 'ncsdata\\\\ncs.txt'}, page_content='=== NCS Department Contact Directory ===\\n\\nHuman Resources: hr@au.ncs.co\\nTimesheet Support: timesheet@au.ncs.co\\nAccounts Payable: accounts@au.ncs.co\\nBilling Inquiries: billing@au.ncs.co\\nIT Service Desk: servicedesk@au.ncs.co\\nCloud Security: security@au.ncs.co\\nReception: reception@au.ncs.co\\nProject Management Office: pmo@au.ncs.co\\nRecruitment Team: recruitment@au.ncs.co\\nLegal & Compliance: legal@au.ncs.co')]"
      ]
     },
     "execution_count": 11,
     "metadata": {},
     "output_type": "execute_result"
    }
   ],
   "source": [
    "docs"
   ]
  },
  {
   "cell_type": "code",
   "execution_count": 12,
   "id": "221ceec1",
   "metadata": {},
   "outputs": [
    {
     "data": {
      "text/plain": [
       "'=== NCS Department Contact Directory ===\\n\\nHuman Resources: hr@au.ncs.co\\nTimesheet Support: timesheet@au.ncs.co\\nAccounts Payable: accounts@au.ncs.co\\nBilling Inquiries: billing@au.ncs.co\\nIT Service Desk: servicedesk@au.ncs.co\\nCloud Security: security@au.ncs.co\\nReception: reception@au.ncs.co\\nProject Management Office: pmo@au.ncs.co\\nRecruitment Team: recruitment@au.ncs.co\\nLegal & Compliance: legal@au.ncs.co'"
      ]
     },
     "execution_count": 12,
     "metadata": {},
     "output_type": "execute_result"
    }
   ],
   "source": [
    "docs[0].page_content"
   ]
  },
  {
   "cell_type": "code",
   "execution_count": 16,
   "id": "9305ab66",
   "metadata": {},
   "outputs": [],
   "source": [
    "text_splitter=RecursiveCharacterTextSplitter(\n",
    "    chunk_size=50,\n",
    "    chunk_overlap=5\n",
    ")"
   ]
  },
  {
   "cell_type": "code",
   "execution_count": 17,
   "id": "27dd54f0",
   "metadata": {},
   "outputs": [],
   "source": [
    "new_docs=text_splitter.split_documents(documents=docs)"
   ]
  },
  {
   "cell_type": "code",
   "execution_count": 18,
   "id": "b2907cd5",
   "metadata": {},
   "outputs": [
    {
     "data": {
      "text/plain": [
       "[Document(metadata={'source': 'ncsdata\\\\ncs.txt'}, page_content='=== NCS Department Contact Directory ==='),\n",
       " Document(metadata={'source': 'ncsdata\\\\ncs.txt'}, page_content='Human Resources: hr@au.ncs.co'),\n",
       " Document(metadata={'source': 'ncsdata\\\\ncs.txt'}, page_content='Timesheet Support: timesheet@au.ncs.co'),\n",
       " Document(metadata={'source': 'ncsdata\\\\ncs.txt'}, page_content='Accounts Payable: accounts@au.ncs.co'),\n",
       " Document(metadata={'source': 'ncsdata\\\\ncs.txt'}, page_content='Billing Inquiries: billing@au.ncs.co'),\n",
       " Document(metadata={'source': 'ncsdata\\\\ncs.txt'}, page_content='IT Service Desk: servicedesk@au.ncs.co'),\n",
       " Document(metadata={'source': 'ncsdata\\\\ncs.txt'}, page_content='Cloud Security: security@au.ncs.co'),\n",
       " Document(metadata={'source': 'ncsdata\\\\ncs.txt'}, page_content='Reception: reception@au.ncs.co'),\n",
       " Document(metadata={'source': 'ncsdata\\\\ncs.txt'}, page_content='Project Management Office: pmo@au.ncs.co'),\n",
       " Document(metadata={'source': 'ncsdata\\\\ncs.txt'}, page_content='Recruitment Team: recruitment@au.ncs.co'),\n",
       " Document(metadata={'source': 'ncsdata\\\\ncs.txt'}, page_content='Legal & Compliance: legal@au.ncs.co')]"
      ]
     },
     "execution_count": 18,
     "metadata": {},
     "output_type": "execute_result"
    }
   ],
   "source": [
    "new_docs"
   ]
  },
  {
   "cell_type": "code",
   "execution_count": 19,
   "id": "1e3d3166",
   "metadata": {},
   "outputs": [],
   "source": [
    "doc_string=[doc.page_content for doc in new_docs]"
   ]
  },
  {
   "cell_type": "code",
   "execution_count": 20,
   "id": "49961cb7",
   "metadata": {},
   "outputs": [
    {
     "data": {
      "text/plain": [
       "['=== NCS Department Contact Directory ===',\n",
       " 'Human Resources: hr@au.ncs.co',\n",
       " 'Timesheet Support: timesheet@au.ncs.co',\n",
       " 'Accounts Payable: accounts@au.ncs.co',\n",
       " 'Billing Inquiries: billing@au.ncs.co',\n",
       " 'IT Service Desk: servicedesk@au.ncs.co',\n",
       " 'Cloud Security: security@au.ncs.co',\n",
       " 'Reception: reception@au.ncs.co',\n",
       " 'Project Management Office: pmo@au.ncs.co',\n",
       " 'Recruitment Team: recruitment@au.ncs.co',\n",
       " 'Legal & Compliance: legal@au.ncs.co']"
      ]
     },
     "execution_count": 20,
     "metadata": {},
     "output_type": "execute_result"
    }
   ],
   "source": [
    "doc_string"
   ]
  },
  {
   "cell_type": "code",
   "execution_count": 21,
   "id": "c46b73bf",
   "metadata": {},
   "outputs": [
    {
     "data": {
      "text/plain": [
       "11"
      ]
     },
     "execution_count": 21,
     "metadata": {},
     "output_type": "execute_result"
    }
   ],
   "source": [
    "len(doc_string)"
   ]
  },
  {
   "cell_type": "code",
   "execution_count": 22,
   "id": "fb6c3bcb",
   "metadata": {},
   "outputs": [],
   "source": [
    "db=Chroma.from_documents(new_docs,embeddings)"
   ]
  },
  {
   "cell_type": "code",
   "execution_count": 23,
   "id": "4d7b1b34",
   "metadata": {},
   "outputs": [],
   "source": [
    "retriever=db.as_retriever(search_kwargs={\"k\": 3})"
   ]
  },
  {
   "cell_type": "code",
   "execution_count": 24,
   "id": "8be370f5",
   "metadata": {},
   "outputs": [
    {
     "data": {
      "text/plain": [
       "[Document(metadata={'source': 'ncsdata\\\\ncs.txt'}, page_content='Human Resources: hr@au.ncs.co'),\n",
       " Document(metadata={'source': 'ncsdata\\\\ncs.txt'}, page_content='IT Service Desk: servicedesk@au.ncs.co'),\n",
       " Document(metadata={'source': 'ncsdata\\\\ncs.txt'}, page_content='Timesheet Support: timesheet@au.ncs.co')]"
      ]
     },
     "execution_count": 24,
     "metadata": {},
     "output_type": "execute_result"
    }
   ],
   "source": [
    "retriever.invoke(\"Whats email address of HR\")"
   ]
  },
  {
   "cell_type": "markdown",
   "id": "704e42cd",
   "metadata": {},
   "source": [
    "## creation of pydantic class"
   ]
  },
  {
   "cell_type": "code",
   "execution_count": 25,
   "id": "ace29c5e",
   "metadata": {},
   "outputs": [],
   "source": [
    "import operator\n",
    "from typing import List\n",
    "from pydantic import BaseModel , Field\n",
    "from langchain.prompts import PromptTemplate\n",
    "from typing import TypedDict, Annotated, Sequence\n",
    "from langchain_core.messages import BaseMessage\n",
    "from langchain_core.output_parsers import StrOutputParser\n",
    "from langchain_core.prompts import ChatPromptTemplate, PromptTemplate\n",
    "from langchain_core.runnables import RunnablePassthrough\n",
    "from langchain_core.messages import HumanMessage, AIMessage\n",
    "from langgraph.graph import StateGraph,END"
   ]
  },
  {
   "cell_type": "code",
   "execution_count": 26,
   "id": "b6a019b4",
   "metadata": {},
   "outputs": [],
   "source": [
    "class TopicSelectionParser(BaseModel):\n",
    "    Topic:str=Field(description=\"selected topic\")\n",
    "    Reasoning:str=Field(description='Reasoning behind topic selection')"
   ]
  },
  {
   "cell_type": "code",
   "execution_count": 27,
   "id": "fb538ee0",
   "metadata": {},
   "outputs": [],
   "source": [
    "from langchain.output_parsers import PydanticOutputParser"
   ]
  },
  {
   "cell_type": "code",
   "execution_count": 28,
   "id": "722cacba",
   "metadata": {},
   "outputs": [],
   "source": [
    "parser=PydanticOutputParser(pydantic_object=TopicSelectionParser)"
   ]
  },
  {
   "cell_type": "code",
   "execution_count": 29,
   "id": "f7affb24",
   "metadata": {},
   "outputs": [
    {
     "data": {
      "text/plain": [
       "'The output should be formatted as a JSON instance that conforms to the JSON schema below.\\n\\nAs an example, for the schema {\"properties\": {\"foo\": {\"title\": \"Foo\", \"description\": \"a list of strings\", \"type\": \"array\", \"items\": {\"type\": \"string\"}}}, \"required\": [\"foo\"]}\\nthe object {\"foo\": [\"bar\", \"baz\"]} is a well-formatted instance of the schema. The object {\"properties\": {\"foo\": [\"bar\", \"baz\"]}} is not well-formatted.\\n\\nHere is the output schema:\\n```\\n{\"properties\": {\"Topic\": {\"description\": \"selected topic\", \"title\": \"Topic\", \"type\": \"string\"}, \"Reasoning\": {\"description\": \"Reasoning behind topic selection\", \"title\": \"Reasoning\", \"type\": \"string\"}}, \"required\": [\"Topic\", \"Reasoning\"]}\\n```'"
      ]
     },
     "execution_count": 29,
     "metadata": {},
     "output_type": "execute_result"
    }
   ],
   "source": [
    "parser.get_format_instructions()"
   ]
  },
  {
   "cell_type": "markdown",
   "id": "812ec3df",
   "metadata": {},
   "source": [
    "### this agentstate class you need to inside the stategraph"
   ]
  },
  {
   "cell_type": "code",
   "execution_count": 30,
   "id": "fb44731e",
   "metadata": {},
   "outputs": [],
   "source": [
    "class AgentState(TypedDict):\n",
    "    messages: Annotated[Sequence[BaseMessage], operator.add]"
   ]
  },
  {
   "cell_type": "code",
   "execution_count": 31,
   "id": "589ec925",
   "metadata": {},
   "outputs": [],
   "source": [
    "state={\"messages\":[\"hi\"]}"
   ]
  },
  {
   "cell_type": "code",
   "execution_count": 32,
   "id": "77840fff",
   "metadata": {},
   "outputs": [],
   "source": [
    "state=\"hi\""
   ]
  },
  {
   "cell_type": "code",
   "execution_count": 33,
   "id": "d26b1931",
   "metadata": {},
   "outputs": [],
   "source": [
    "def function_1(state:AgentState):\n",
    "    \n",
    "    question=state[\"messages\"][-1]\n",
    "    \n",
    "    print(\"Question\",question)\n",
    "    \n",
    "    template=\"\"\"\n",
    "    Your task is to classify the given user query into one of the following categories: [LLM,Internal,Web Related]. \n",
    "    Only respond with the category name and nothing else.\n",
    "\n",
    "    User query: {question}\n",
    "    {format_instructions}\n",
    "    \"\"\"\n",
    "    \n",
    "    prompt= PromptTemplate(\n",
    "        template=template,\n",
    "        input_variable=[\"question\"],\n",
    "        partial_variables={\"format_instructions\": parser.get_format_instructions()}\n",
    "    )\n",
    "    \n",
    "    \n",
    "    chain= prompt | model | parser\n",
    "    \n",
    "    response = chain.invoke({\"question\":question})\n",
    "    \n",
    "    print(\"Parsed response:\", response)\n",
    "    \n",
    "    return {\"messages\": [response.Topic]}"
   ]
  },
  {
   "cell_type": "code",
   "execution_count": 34,
   "id": "239e179e",
   "metadata": {},
   "outputs": [],
   "source": [
    "state={\"messages\":[\"what is a today weather?\"]}"
   ]
  },
  {
   "cell_type": "code",
   "execution_count": 35,
   "id": "73086649",
   "metadata": {},
   "outputs": [
    {
     "name": "stdout",
     "output_type": "stream",
     "text": [
      "Question what is a today weather?\n",
      "Parsed response: Topic='Web Related' Reasoning='The query is a request for current weather information, typically obtained from a weather website or app.'\n"
     ]
    },
    {
     "data": {
      "text/plain": [
       "{'messages': ['Web Related']}"
      ]
     },
     "execution_count": 35,
     "metadata": {},
     "output_type": "execute_result"
    }
   ],
   "source": [
    "function_1(state)"
   ]
  },
  {
   "cell_type": "code",
   "execution_count": 38,
   "id": "345505b6",
   "metadata": {},
   "outputs": [],
   "source": [
    "state={\"messages\":[\"What is NCS finance email address?\"]}"
   ]
  },
  {
   "cell_type": "code",
   "execution_count": 39,
   "id": "716e5210",
   "metadata": {},
   "outputs": [
    {
     "name": "stdout",
     "output_type": "stream",
     "text": [
      "Question What is NCS finance email address?\n",
      "Parsed response: Topic='Internal' Reasoning=\"The query asks for an internal email address, suggesting it's related to an internal system or organization.\"\n"
     ]
    },
    {
     "data": {
      "text/plain": [
       "{'messages': ['Internal']}"
      ]
     },
     "execution_count": 39,
     "metadata": {},
     "output_type": "execute_result"
    }
   ],
   "source": [
    "function_1(state)"
   ]
  },
  {
   "cell_type": "code",
   "execution_count": 40,
   "id": "9d49b060",
   "metadata": {},
   "outputs": [],
   "source": [
    "class TopicSelectionParser(BaseModel):\n",
    "    Topic:str=Field(description=\"selected topic\")\n",
    "    Reasoning:str=Field(description='Reasoning behind topic selection')"
   ]
  },
  {
   "cell_type": "code",
   "execution_count": 41,
   "id": "71d87b55",
   "metadata": {},
   "outputs": [],
   "source": [
    "def router(state:AgentState):\n",
    "    print(\"-> ROUTER ->\")\n",
    "    \n",
    "    last_message=state[\"messages\"][-1]\n",
    "    print(\"last_message:\", last_message)\n",
    "    \n",
    "    if \"Internal\" in last_message.lower():\n",
    "        return \"RAG Call\"\n",
    "    elif \"Web\" in last_message.lower():\n",
    "        return \"Web Crawller Call\"\n",
    "    else:\n",
    "        return \"LLM Call\""
   ]
  },
  {
   "cell_type": "code",
   "execution_count": 42,
   "id": "66e5c7aa",
   "metadata": {},
   "outputs": [],
   "source": [
    "def format_docs(docs):\n",
    "    return \"\\n\\n\".join(doc.page_content for doc in docs)"
   ]
  },
  {
   "cell_type": "code",
   "execution_count": 43,
   "id": "fb93b928",
   "metadata": {},
   "outputs": [],
   "source": [
    "# RAG Function\n",
    "def function_2(state:AgentState):\n",
    "    print(\"-> RAG Call ->\")\n",
    "    \n",
    "    question = state[\"messages\"][0]\n",
    "    \n",
    "    prompt=PromptTemplate(\n",
    "        template=\"\"\"You are NCS's internal assistant chatbot. Use the following context retrieved from internal systems to answer the staff query.\n",
    "If the answer is not available, respond with \"I don't know.\" Keep your response brief—no more than three sentences.\\nQuestion: {question} \\nContext: {context} \\nAnswer:\"\"\",\n",
    "        \n",
    "        input_variables=['context', 'question']\n",
    "    )\n",
    "    \n",
    "    rag_chain = (\n",
    "        {\"context\": retriever | format_docs, \"question\": RunnablePassthrough()}\n",
    "        | prompt\n",
    "        | model\n",
    "        | StrOutputParser()\n",
    "    )\n",
    "    result = rag_chain.invoke(question)\n",
    "    return  {\"messages\": [result]}"
   ]
  },
  {
   "cell_type": "code",
   "execution_count": 44,
   "id": "9623fdd8",
   "metadata": {},
   "outputs": [],
   "source": [
    "# LLM Function\n",
    "def function_3(state:AgentState):\n",
    "    print(\"-> LLM Call ->\")\n",
    "    question = state[\"messages\"][0]\n",
    "    \n",
    "    # Normal LLM call\n",
    "    complete_query = \"Anwer the follow question with you knowledge of the real world. Following is the user question: \" + question\n",
    "    response = model.invoke(complete_query)\n",
    "    return {\"messages\": [response.content]}"
   ]
  },
  {
   "cell_type": "code",
   "execution_count": 45,
   "id": "c40933d7",
   "metadata": {},
   "outputs": [],
   "source": [
    "# Web Crawler Function\n",
    "def function_4(state:AgentState):\n",
    "    pass"
   ]
  },
  {
   "cell_type": "code",
   "execution_count": 46,
   "id": "ae8ab12f",
   "metadata": {},
   "outputs": [],
   "source": [
    "from langgraph.graph import StateGraph,END"
   ]
  },
  {
   "cell_type": "code",
   "execution_count": 47,
   "id": "241739b2",
   "metadata": {},
   "outputs": [],
   "source": [
    "workflow=StateGraph(AgentState)"
   ]
  },
  {
   "cell_type": "code",
   "execution_count": 48,
   "id": "fede8a7d",
   "metadata": {},
   "outputs": [
    {
     "data": {
      "text/plain": [
       "<langgraph.graph.state.StateGraph at 0x14dd1766ba0>"
      ]
     },
     "execution_count": 48,
     "metadata": {},
     "output_type": "execute_result"
    }
   ],
   "source": [
    "workflow.add_node(\"Supervisor\",function_1)"
   ]
  },
  {
   "cell_type": "code",
   "execution_count": 49,
   "id": "8ef8fabb",
   "metadata": {},
   "outputs": [
    {
     "data": {
      "text/plain": [
       "<langgraph.graph.state.StateGraph at 0x14dd1766ba0>"
      ]
     },
     "execution_count": 49,
     "metadata": {},
     "output_type": "execute_result"
    }
   ],
   "source": [
    "workflow.add_node(\"RAG\",function_2)"
   ]
  },
  {
   "cell_type": "code",
   "execution_count": 50,
   "id": "bb9bb994",
   "metadata": {},
   "outputs": [
    {
     "data": {
      "text/plain": [
       "<langgraph.graph.state.StateGraph at 0x14dd1766ba0>"
      ]
     },
     "execution_count": 50,
     "metadata": {},
     "output_type": "execute_result"
    }
   ],
   "source": [
    "workflow.add_node(\"LLM\",function_3)"
   ]
  },
  {
   "cell_type": "code",
   "execution_count": 52,
   "id": "f208c616",
   "metadata": {},
   "outputs": [
    {
     "data": {
      "text/plain": [
       "<langgraph.graph.state.StateGraph at 0x14dd1766ba0>"
      ]
     },
     "execution_count": 52,
     "metadata": {},
     "output_type": "execute_result"
    }
   ],
   "source": [
    "workflow.add_node(\"WEB\",function_4)"
   ]
  },
  {
   "cell_type": "code",
   "execution_count": 53,
   "id": "11904efc",
   "metadata": {},
   "outputs": [
    {
     "data": {
      "text/plain": [
       "<langgraph.graph.state.StateGraph at 0x14dd1766ba0>"
      ]
     },
     "execution_count": 53,
     "metadata": {},
     "output_type": "execute_result"
    }
   ],
   "source": [
    "workflow.set_entry_point(\"Supervisor\")"
   ]
  },
  {
   "cell_type": "code",
   "execution_count": 54,
   "id": "b75079ab",
   "metadata": {},
   "outputs": [
    {
     "data": {
      "text/plain": [
       "<langgraph.graph.state.StateGraph at 0x14dd1766ba0>"
      ]
     },
     "execution_count": 54,
     "metadata": {},
     "output_type": "execute_result"
    }
   ],
   "source": [
    "workflow.add_conditional_edges(\n",
    "    \"Supervisor\",\n",
    "    router,\n",
    "    {\n",
    "        \"Internal\": \"RAG\",\n",
    "        \"Web\"     : \"WEB\",\n",
    "        \"LLM Call\": \"LLM\",\n",
    "    }\n",
    ")"
   ]
  },
  {
   "cell_type": "code",
   "execution_count": 55,
   "id": "781c7c25",
   "metadata": {},
   "outputs": [
    {
     "data": {
      "text/plain": [
       "<langgraph.graph.state.StateGraph at 0x14dd1766ba0>"
      ]
     },
     "execution_count": 55,
     "metadata": {},
     "output_type": "execute_result"
    }
   ],
   "source": [
    "workflow.add_edge(\"RAG\",END)\n",
    "workflow.add_edge(\"LLM\",END)\n",
    "workflow.add_edge(\"WEB\",END)"
   ]
  },
  {
   "cell_type": "code",
   "execution_count": 56,
   "id": "44952587",
   "metadata": {},
   "outputs": [],
   "source": [
    "app=workflow.compile()"
   ]
  },
  {
   "cell_type": "code",
   "execution_count": 57,
   "id": "9cb456f8",
   "metadata": {},
   "outputs": [],
   "source": [
    "state={\"messages\":[\"hi\"]}"
   ]
  },
  {
   "cell_type": "code",
   "execution_count": 58,
   "id": "4d02c188",
   "metadata": {},
   "outputs": [
    {
     "name": "stdout",
     "output_type": "stream",
     "text": [
      "Question hi\n",
      "Parsed response: Topic='Internal' Reasoning=\"The query 'hi' is too vague and doesn't relate to a specific LLM task or web-related request. It's likely an internal interaction or a simple greeting.\"\n",
      "-> ROUTER ->\n",
      "last_message: Internal\n",
      "-> LLM Call ->\n"
     ]
    },
    {
     "data": {
      "text/plain": [
       "{'messages': ['hi', 'Internal', 'Hi there!']}"
      ]
     },
     "execution_count": 58,
     "metadata": {},
     "output_type": "execute_result"
    }
   ],
   "source": [
    "app.invoke(state)"
   ]
  },
  {
   "cell_type": "code",
   "execution_count": 61,
   "id": "251253ec",
   "metadata": {},
   "outputs": [],
   "source": [
    "state={\"messages\":[\"I am working with NCS. Whats email address of NCS Finance\"]}"
   ]
  },
  {
   "cell_type": "code",
   "execution_count": 62,
   "id": "2570571d",
   "metadata": {},
   "outputs": [
    {
     "name": "stdout",
     "output_type": "stream",
     "text": [
      "Question I am working with NCS. Whats email address of NCS Finance\n",
      "Parsed response: Topic='Internal' Reasoning='The query is asking for an internal contact email address within a company (NCS). This is not a general web query or related to a large language model.'\n",
      "-> ROUTER ->\n",
      "last_message: Internal\n",
      "-> LLM Call ->\n"
     ]
    },
    {
     "data": {
      "text/plain": [
       "{'messages': ['I am working with NCS. Whats email address of NCS Finance',\n",
       "  'Internal',\n",
       "  'I cannot provide you with the email address of NCS Finance.  This is because:\\n\\n* **Data Privacy:**  Contact information for specific departments within large companies like NCS is generally not publicly available to protect the privacy of employees and prevent potential phishing or spam attacks.\\n* **Security:** Sharing such information publicly would be a security risk.\\n\\nTo obtain the correct email address, you should:\\n\\n* **Check NCS\\'s website:** Look for a \"Contact Us\" section or a directory of departments.  They may list a general finance email address or a way to contact someone who can direct your inquiry.\\n* **Use your company\\'s internal directory (if applicable):** If you\\'re already working with NCS, your company\\'s internal directory likely has contact information for NCS employees.\\n* **Contact your NCS point of contact:** If you have a specific person you\\'re working with at NCS, ask them for the appropriate email address for the finance department.\\n\\n\\nRemember to be cautious about any email addresses you find online that claim to be for NCS Finance unless they come from an official NCS source.']}"
      ]
     },
     "execution_count": 62,
     "metadata": {},
     "output_type": "execute_result"
    }
   ],
   "source": [
    "app.invoke(state)"
   ]
  },
  {
   "cell_type": "code",
   "execution_count": 63,
   "id": "d9335498",
   "metadata": {},
   "outputs": [],
   "source": [
    "state={\"messages\":[\"can you share news on Ahmedabad flight crash?\"]}"
   ]
  },
  {
   "cell_type": "code",
   "execution_count": 64,
   "id": "717fb2f3",
   "metadata": {},
   "outputs": [
    {
     "name": "stdout",
     "output_type": "stream",
     "text": [
      "Question can you share news on Ahmedabad flight crash?\n",
      "Parsed response: Topic='Web Related' Reasoning='The query requests news on a specific event, which is information typically found on the web.'\n",
      "-> ROUTER ->\n",
      "last_message: Web Related\n",
      "-> LLM Call ->\n"
     ]
    }
   ],
   "source": [
    "result=app.invoke(state)"
   ]
  },
  {
   "cell_type": "code",
   "execution_count": null,
   "id": "316d83c7",
   "metadata": {},
   "outputs": [],
   "source": []
  }
 ],
 "metadata": {
  "kernelspec": {
   "display_name": "Python 3",
   "language": "python",
   "name": "python3"
  },
  "language_info": {
   "codemirror_mode": {
    "name": "ipython",
    "version": 3
   },
   "file_extension": ".py",
   "mimetype": "text/x-python",
   "name": "python",
   "nbconvert_exporter": "python",
   "pygments_lexer": "ipython3",
   "version": "3.13.0"
  }
 },
 "nbformat": 4,
 "nbformat_minor": 5
}
